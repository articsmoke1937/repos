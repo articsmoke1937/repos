{
 "cells": [
  {
   "cell_type": "markdown",
   "metadata": {},
   "source": [
    "# Tkinter GUI Lesson\n"
   ]
  },
  {
   "cell_type": "markdown",
   "metadata": {},
   "source": [
    "#### Website references\n",
    "https://pythongeeks.org/gui-programming-in-python/\n",
    "https://docs.python.org/3/library/tkinter.html\n",
    "https://python-textbok.readthedocs.io/en/1.0/Introduction_to_GUI_Programming.html"
   ]
  },
  {
   "cell_type": "code",
   "execution_count": 2,
   "metadata": {},
   "outputs": [],
   "source": [
    "### Import Tkinter\n",
    "import tkinter"
   ]
  },
  {
   "cell_type": "markdown",
   "metadata": {},
   "source": [
    "## Creating the main window for the application.  Syntax below\n",
    "Tk(screenName=None,  baseName=None,  className=’Tk’,  useTk=1)\n",
    "\n",
    "import tkinter\n",
    "win=tkinter.Tk() #creating the main window and storing the window object in 'win'\n",
    "#We create the widgets here\n",
    "win.mainloop() #running the loop that works as a trigger"
   ]
  },
  {
   "cell_type": "code",
   "execution_count": 2,
   "metadata": {},
   "outputs": [],
   "source": [
    "# Example Code#\n",
    "import tkinter.messagebox\n",
    "from tkinter import *\n",
    "win=Tk() #creating the main window and storing the window object in 'win'\n",
    "win.title('Welcome') #setting title of the window\n",
    "win.geometry('500x200') #setting the size of the window\n",
    "def func():#function of the button\n",
    "    tkinter.messagebox.showinfo(\"Greetings\",\"Hello! Welcome to PythonGeeks.\")\n",
    "    \n",
    "btn=Button(win,text=\"Click Me\", width=10,height=5,command=func)\n",
    "btn.place(x=200,y=30)\n",
    "win.mainloop() #running the loop that works as a trigger"
   ]
  },
  {
   "cell_type": "markdown",
   "metadata": {},
   "source": [
    "### Widgets\n",
    "1. pack(): This method organizes widgets in blocks before positioning the parent widget\n",
    "\n",
    "2. grid(): This method organizes widgets in the grid or table form before positioning the parent widget\n",
    "\n",
    "3. place(): This method organizes the widgets by placing them in the position mentioned in the code.\n",
    "\n",
    "\n",
    "### To find out what configuration options are available on any widget, call its configure() method, which returns a dictionary containing a variety of information about each object, including its default and current values. Use keys() to get just the names of each option.\n",
    "\n",
    "#### 3btn = ttk.Button(frm, ...)\n",
    "#### print(btn.configure().keys())"
   ]
  },
  {
   "cell_type": "markdown",
   "metadata": {},
   "source": [
    "btn=ttk.Button()\n",
    "print(btn.configure().keys())"
   ]
  },
  {
   "cell_type": "code",
   "execution_count": 14,
   "metadata": {},
   "outputs": [
    {
     "name": "stdout",
     "output_type": "stream",
     "text": [
      "dict_keys(['activebackground', 'activeforeground', 'anchor', 'background', 'bd', 'bg', 'bitmap', 'borderwidth', 'command', 'compound', 'cursor', 'default', 'disabledforeground', 'fg', 'font', 'foreground', 'height', 'highlightbackground', 'highlightcolor', 'highlightthickness', 'image', 'justify', 'overrelief', 'padx', 'pady', 'relief', 'repeatdelay', 'repeatinterval', 'state', 'takefocus', 'text', 'textvariable', 'underline', 'width', 'wraplength'])\n",
      "['_Misc__winfo_getint', '_Misc__winfo_parseitem', '__class__', '__delattr__', '__dict__', '__dir__', '__doc__', '__eq__', '__format__', '__ge__', '__getattribute__', '__getitem__', '__gt__', '__hash__', '__init__', '__init_subclass__', '__le__', '__lt__', '__module__', '__ne__', '__new__', '__reduce__', '__reduce_ex__', '__repr__', '__setattr__', '__setitem__', '__sizeof__', '__str__', '__subclasshook__', '__weakref__', '_bind', '_configure', '_displayof', '_do', '_getboolean', '_getconfigure', '_getconfigure1', '_getdoubles', '_getints', '_grid_configure', '_gridconvvalue', '_last_child_ids', '_name', '_nametowidget', '_noarg_', '_options', '_register', '_report_exception', '_root', '_setup', '_subst_format', '_subst_format_str', '_substitute', '_tclCommands', '_w', '_windowingsystem', 'after', 'after_cancel', 'after_idle', 'anchor', 'bbox', 'bell', 'bind', 'bind_all', 'bind_class', 'bindtags', 'cget', 'children', 'clipboard_append', 'clipboard_clear', 'clipboard_get', 'columnconfigure', 'config', 'configure', 'deletecommand', 'destroy', 'event_add', 'event_delete', 'event_generate', 'event_info', 'flash', 'focus', 'focus_displayof', 'focus_force', 'focus_get', 'focus_lastfor', 'focus_set', 'forget', 'getboolean', 'getdouble', 'getint', 'getvar', 'grab_current', 'grab_release', 'grab_set', 'grab_set_global', 'grab_status', 'grid', 'grid_anchor', 'grid_bbox', 'grid_columnconfigure', 'grid_configure', 'grid_forget', 'grid_info', 'grid_location', 'grid_propagate', 'grid_remove', 'grid_rowconfigure', 'grid_size', 'grid_slaves', 'image_names', 'image_types', 'info', 'invoke', 'keys', 'lift', 'location', 'lower', 'mainloop', 'master', 'nametowidget', 'option_add', 'option_clear', 'option_get', 'option_readfile', 'pack', 'pack_configure', 'pack_forget', 'pack_info', 'pack_propagate', 'pack_slaves', 'place', 'place_configure', 'place_forget', 'place_info', 'place_slaves', 'propagate', 'quit', 'register', 'rowconfigure', 'selection_clear', 'selection_get', 'selection_handle', 'selection_own', 'selection_own_get', 'send', 'setvar', 'size', 'slaves', 'tk', 'tk_bisque', 'tk_focusFollowsMouse', 'tk_focusNext', 'tk_focusPrev', 'tk_setPalette', 'tk_strictMotif', 'tkraise', 'unbind', 'unbind_all', 'unbind_class', 'update', 'update_idletasks', 'wait_variable', 'wait_visibility', 'wait_window', 'waitvar', 'widgetName', 'winfo_atom', 'winfo_atomname', 'winfo_cells', 'winfo_children', 'winfo_class', 'winfo_colormapfull', 'winfo_containing', 'winfo_depth', 'winfo_exists', 'winfo_fpixels', 'winfo_geometry', 'winfo_height', 'winfo_id', 'winfo_interps', 'winfo_ismapped', 'winfo_manager', 'winfo_name', 'winfo_parent', 'winfo_pathname', 'winfo_pixels', 'winfo_pointerx', 'winfo_pointerxy', 'winfo_pointery', 'winfo_reqheight', 'winfo_reqwidth', 'winfo_rgb', 'winfo_rootx', 'winfo_rooty', 'winfo_screen', 'winfo_screencells', 'winfo_screendepth', 'winfo_screenheight', 'winfo_screenmmheight', 'winfo_screenmmwidth', 'winfo_screenvisual', 'winfo_screenwidth', 'winfo_server', 'winfo_toplevel', 'winfo_viewable', 'winfo_visual', 'winfo_visualid', 'winfo_visualsavailable', 'winfo_vrootheight', 'winfo_vrootwidth', 'winfo_vrootx', 'winfo_vrooty', 'winfo_width', 'winfo_x', 'winfo_y']\n",
      "{'selection_own', 'widgetName', 'propagate', '__doc__', 'bind', 'pack_slaves', '__sizeof__', '_windowingsystem', 'place', '_Misc__winfo_parseitem', '__str__', 'winfo_reqheight', '_getdoubles', 'tkraise', '_register', '_nametowidget', '_subst_format', 'focus_set', '_options', '__gt__', 'grid_anchor', 'winfo_interps', '__module__', '_noarg_', 'keys', 'image_types', 'grid_propagate', 'event_add', 'forget', 'anchor', 'grab_set_global', 'getint', 'clipboard_get', 'master', 'option_get', 'winfo_visual', 'winfo_vrootheight', 'wait_variable', 'location', 'winfo_screenmmwidth', 'winfo_rooty', 'winfo_vrootwidth', '_name', 'lift', 'place_info', 'wait_visibility', 'winfo_pointerxy', 'winfo_manager', '__dir__', 'winfo_id', 'selection_handle', 'bell', '__dict__', 'after_cancel', 'columnconfigure', 'winfo_pixels', 'winfo_colormapfull', 'grid_size', '_getconfigure1', '__subclasshook__', '_w', 'winfo_name', 'selection_clear', 'winfo_pointery', 'waitvar', '__ge__', 'grid_remove', 'winfo_screenmmheight', 'winfo_vrootx', 'winfo_screendepth', 'clipboard_clear', 'place_forget', 'bind_all', 'lower', 'update', 'winfo_pointerx', '__delattr__', 'option_clear', '_tclCommands', 'place_slaves', 'grab_set', 'unbind_class', '__reduce__', 'update_idletasks', 'winfo_screen', 'register', 'grid_rowconfigure', 'winfo_screencells', 'rowconfigure', 'winfo_children', '__hash__', '__weakref__', '_getints', 'winfo_screenwidth', 'event_generate', '_last_child_ids', 'winfo_height', '_report_exception', 'grid_location', 'info', 'place_configure', 'children', 'grab_release', 'slaves', 'selection_own_get', '_configure', 'winfo_screenvisual', 'winfo_atomname', 'cget', 'tk_setPalette', '__repr__', '__init__', 'winfo_x', 'bindtags', '_subst_format_str', 'winfo_visualid', 'config', 'winfo_y', '__reduce_ex__', 'tk_strictMotif', 'winfo_viewable', 'winfo_atom', '_Misc__winfo_getint', 'wait_window', 'focus_force', 'grid_forget', 'focus_lastfor', '_displayof', 'tk_focusPrev', 'winfo_exists', 'pack', '_do', 'winfo_toplevel', 'clipboard_append', 'winfo_class', 'mainloop', 'grid_info', 'winfo_ismapped', 'tk_bisque', 'tk_focusNext', 'focus', '_substitute', 'setvar', 'unbind_all', 'grid_columnconfigure', '__eq__', '_getboolean', 'winfo_cells', 'winfo_fpixels', '__getattribute__', 'configure', '_gridconvvalue', 'focus_get', 'image_names', 'tk_focusFollowsMouse', 'winfo_containing', 'size', 'bind_class', '__format__', 'quit', '__lt__', 'winfo_screenheight', 'grid', 'winfo_rootx', 'pack_configure', 'winfo_width', 'after', 'winfo_pathname', 'winfo_rgb', '__setattr__', 'getdouble', 'grid_bbox', 'option_add', 'pack_forget', '_root', 'flash', 'winfo_depth', '__class__', '_setup', 'deletecommand', 'grab_current', 'pack_info', 'selection_get', 'focus_displayof', 'unbind', 'nametowidget', 'event_delete', 'getvar', '__le__', '__setitem__', 'event_info', 'tk', '_getconfigure', 'winfo_server', 'invoke', 'winfo_geometry', '__init_subclass__', '__ne__', '__new__', 'grid_slaves', 'grid_configure', 'send', 'grab_status', '_bind', 'bbox', 'winfo_parent', 'winfo_reqwidth', '_grid_configure', 'getboolean', 'winfo_visualsavailable', 'option_readfile', 'winfo_vrooty', 'destroy', '__getitem__', 'pack_propagate', 'after_idle'}\n"
     ]
    }
   ],
   "source": [
    "import tkinter as ttk\n",
    "btn=ttk.Button()\n",
    "print(btn.configure().keys())\n",
    "print(dir(btn))\n",
    "print(set(dir(btn)))"
   ]
  },
  {
   "cell_type": "markdown",
   "metadata": {},
   "source": [
    "### ...Button Paremeters ####\n",
    "btn=Button(master, option=value)\n",
    "a. activebackground: This parameter sets the background color when the cursor is on the button\n",
    "\n",
    "b. activeforeground: This parameter sets the foreground color when the cursor is on the button\n",
    "\n",
    "c. bg: We give the background color of the button to the parameter\n",
    "\n",
    "d. command: We give a function to this parameter. This function contains the code to set the functionality of the button.\n",
    "\n",
    "e. font: This parameter sets the font style of the label of the button\n",
    "\n",
    "f. image: This parameter sets the background of the button to the image given\n",
    "\n",
    "g. width: This sets the width of the button to the given value\n",
    "\n",
    "h. height: This sets the height of the button to the given value"
   ]
  },
  {
   "cell_type": "code",
   "execution_count": null,
   "metadata": {},
   "outputs": [],
   "source": [
    "import tkinter.messagebox\n",
    "from tkinter import *\n",
    "win=Tk() #creating the main window and storing the window object in 'win'\n",
    "win.title('Welcome') #setting title of the window\n",
    "win.geometry('500x200') #setting the size of the window\n",
    "def func():#function of the button\n",
    "    tkinter.messagebox.showinfo(\"Greetings\",\"Hello! Welcome to PythonGeeks.\")\n",
    "    \n",
    "btn=Button(win,text=\"Click Me\", width=10,height=5,command=func)\n",
    "btn.place(x=200,y=30)\n",
    "win.mainloop() #running the loop that works as a trigger"
   ]
  },
  {
   "cell_type": "markdown",
   "metadata": {},
   "source": [
    "### Entry ###\n",
    "This widget allows you to take single-line input from the user. Its syntax is:\n",
    "\n",
    "ent=Entry(master, option=value)\n",
    "The parent window is given as the master. Besides, it has many other parameters like:\n",
    "\n",
    "a. bd: This parameter sets the border width in pixels\n",
    "\n",
    "b. bg: We can set the background color of the entry using this parameter\n",
    "\n",
    "c. cursor: This sets the cursor used when the cursor is on the entry\n",
    "\n",
    "d. command: This takes a function as an argument that gets called.\n",
    "\n",
    "e. highlightcolor: This parameter sets the color of the focus highlight\n",
    "\n",
    "f. width: This sets the width of the entry to the given value\n",
    "\n",
    "g. height: This sets the height of the entry to the given value"
   ]
  },
  {
   "cell_type": "code",
   "execution_count": 3,
   "metadata": {},
   "outputs": [],
   "source": [
    "from tkinter import *\n",
    "win=Tk() #creating the main window and storing the window object in 'win'\n",
    "win.geometry('300x100') #setting the size of the window\n",
    "Label(win, text='Name').grid(row=0) \n",
    "Label(win, text='Email').grid(row=1) \n",
    "ent1 = Entry(win) \n",
    "ent2 = Entry(win) \n",
    "ent1.grid(row=0, column=1) \n",
    "ent2.grid(row=1, column=1) "
   ]
  },
  {
   "cell_type": "markdown",
   "metadata": {},
   "source": [
    "## Frame\n",
    "This widget acts as a container of other widgets. This is used to organize and position the widgets. Its syntax is:\n",
    "\n",
    "frame=Frame(master, option=value)\n",
    "The parent window is given as the ‘master’ parameter. There are other parameters like:\n",
    "\n",
    "a. bd: This parameter sets the border width in pixels\n",
    "\n",
    "b. bg: We can set the background color of the frame using this parameter\n",
    "\n",
    "c. cursor: This sets the cursor used when the cursor is on the frame\n",
    "\n",
    "d. highlightcolor: This parameter sets the color of the focus highlight\n",
    "\n",
    "e. width: This sets the width of the frame\n",
    "\n",
    "f. height: This sets the height of the frame"
   ]
  },
  {
   "cell_type": "code",
   "execution_count": 5,
   "metadata": {},
   "outputs": [],
   "source": [
    "from tkinter import *\n",
    "win=Tk() #creating the main window and storing the window object in 'win'\n",
    "win.title('Welcome') #setting title of the window\n",
    "win.geometry('250x50')\n",
    "frame = Frame(win) \n",
    "frame.pack() \n",
    "second_frame = Frame(win) \n",
    "second_frame.pack( side = BOTTOM ) \n",
    "red_button = Button(frame, text = 'Hello', bg ='red',fg='white') \n",
    "red_button.pack( side = LEFT) \n",
    "green_button = Button(frame, text = 'Hi', fg='white',bg='green') \n",
    "green_button.pack( side = LEFT ) \n",
    "blue_button = Button(second_frame, text ='Blue', fg ='white',bg='blue') \n",
    "blue_button.pack( side = LEFT ) \n",
    "win.mainloop() #running the loop that works as a trigger"
   ]
  },
  {
   "cell_type": "markdown",
   "metadata": {},
   "source": []
  },
  {
   "cell_type": "code",
   "execution_count": 6,
   "metadata": {},
   "outputs": [
    {
     "ename": "TclError",
     "evalue": "can't invoke \"winfo\" command: application has been destroyed",
     "output_type": "error",
     "traceback": [
      "\u001b[1;31m---------------------------------------------------------------------------\u001b[0m",
      "\u001b[1;31mTclError\u001b[0m                                  Traceback (most recent call last)",
      "\u001b[1;32m~\\AppData\\Local\\Temp/ipykernel_53032/4178403754.py\u001b[0m in \u001b[0;36m<module>\u001b[1;34m\u001b[0m\n\u001b[0;32m      9\u001b[0m \u001b[0mroot\u001b[0m\u001b[1;33m.\u001b[0m\u001b[0mmainloop\u001b[0m\u001b[1;33m(\u001b[0m\u001b[1;33m)\u001b[0m\u001b[1;33m\u001b[0m\u001b[1;33m\u001b[0m\u001b[0m\n\u001b[0;32m     10\u001b[0m \u001b[1;33m\u001b[0m\u001b[0m\n\u001b[1;32m---> 11\u001b[1;33m \u001b[0mprint\u001b[0m\u001b[1;33m(\u001b[0m\u001b[1;34m\"color depth=\"\u001b[0m \u001b[1;33m+\u001b[0m \u001b[0mstr\u001b[0m\u001b[1;33m(\u001b[0m\u001b[0mroot\u001b[0m\u001b[1;33m.\u001b[0m\u001b[0mwinfo_screendepth\u001b[0m\u001b[1;33m(\u001b[0m\u001b[1;33m)\u001b[0m\u001b[1;33m)\u001b[0m\u001b[1;33m+\u001b[0m \u001b[1;34m\" (\"\u001b[0m \u001b[1;33m+\u001b[0m \u001b[0mroot\u001b[0m\u001b[1;33m.\u001b[0m\u001b[0mwinfo_screenvisual\u001b[0m\u001b[1;33m(\u001b[0m\u001b[1;33m)\u001b[0m \u001b[1;33m+\u001b[0m \u001b[1;34m\")\"\u001b[0m\u001b[1;33m)\u001b[0m\u001b[1;33m\u001b[0m\u001b[1;33m\u001b[0m\u001b[0m\n\u001b[0m\u001b[0;32m     12\u001b[0m \u001b[0mprint\u001b[0m\u001b[1;33m(\u001b[0m\u001b[1;34m\"pixels per inch=\"\u001b[0m \u001b[1;33m+\u001b[0m \u001b[0mstr\u001b[0m\u001b[1;33m(\u001b[0m\u001b[0mroot\u001b[0m\u001b[1;33m.\u001b[0m\u001b[0mwinfo_pixels\u001b[0m\u001b[1;33m(\u001b[0m\u001b[1;34m'1i'\u001b[0m\u001b[1;33m)\u001b[0m\u001b[1;33m)\u001b[0m\u001b[1;33m)\u001b[0m\u001b[1;33m\u001b[0m\u001b[1;33m\u001b[0m\u001b[0m\n\u001b[0;32m     13\u001b[0m \u001b[0mprint\u001b[0m\u001b[1;33m(\u001b[0m\u001b[1;34m\"width=\"\u001b[0m\u001b[1;33m,\u001b[0m \u001b[0mstr\u001b[0m\u001b[1;33m(\u001b[0m\u001b[0mroot\u001b[0m\u001b[1;33m.\u001b[0m\u001b[0mwinfo_screenwidth\u001b[0m\u001b[1;33m(\u001b[0m\u001b[1;33m)\u001b[0m\u001b[1;33m)\u001b[0m \u001b[1;33m+\u001b[0m \u001b[1;34m\" height=\"\u001b[0m\u001b[1;33m,\u001b[0m \u001b[0mstr\u001b[0m\u001b[1;33m(\u001b[0m\u001b[0mroot\u001b[0m\u001b[1;33m.\u001b[0m\u001b[0mwinfo_screenheight\u001b[0m\u001b[1;33m(\u001b[0m\u001b[1;33m)\u001b[0m\u001b[1;33m)\u001b[0m\u001b[1;33m)\u001b[0m\u001b[1;33m\u001b[0m\u001b[1;33m\u001b[0m\u001b[0m\n",
      "\u001b[1;32mC:\\ProgramData\\Anaconda3\\lib\\tkinter\\__init__.py\u001b[0m in \u001b[0;36mwinfo_screendepth\u001b[1;34m(self)\u001b[0m\n\u001b[0;32m   1191\u001b[0m         screen of this widget.\"\"\"\n\u001b[0;32m   1192\u001b[0m         return self.tk.getint(\n\u001b[1;32m-> 1193\u001b[1;33m             self.tk.call('winfo', 'screendepth', self._w))\n\u001b[0m\u001b[0;32m   1194\u001b[0m \u001b[1;33m\u001b[0m\u001b[0m\n\u001b[0;32m   1195\u001b[0m     \u001b[1;32mdef\u001b[0m \u001b[0mwinfo_screenheight\u001b[0m\u001b[1;33m(\u001b[0m\u001b[0mself\u001b[0m\u001b[1;33m)\u001b[0m\u001b[1;33m:\u001b[0m\u001b[1;33m\u001b[0m\u001b[1;33m\u001b[0m\u001b[0m\n",
      "\u001b[1;31mTclError\u001b[0m: can't invoke \"winfo\" command: application has been destroyed"
     ]
    }
   ],
   "source": [
    "from tkinter import *\n",
    "from tkinter import ttk\n",
    "root = Tk()\n",
    "little = ttk.Label(root, text=\"Little\")\n",
    "bigger = ttk.Label(root, text='Much bigger label')\n",
    "little.grid(column=0,row=0)\n",
    "bigger.grid(column=0,row=0)\n",
    "root.after(2000, lambda: little.lift())\n",
    "root.mainloop()\n",
    "\n",
    "print(\"color depth=\" + str(root.winfo_screendepth())+ \" (\" + root.winfo_screenvisual() + \")\")\n",
    "print(\"pixels per inch=\" + str(root.winfo_pixels('1i')))\n",
    "print(\"width=\", str(root.winfo_screenwidth()) + \" height=\", str(root.winfo_screenheight()))\n",
    "\n",
    "root.winfo_screen()\n",
    "root.wm_maxsize()"
   ]
  },
  {
   "cell_type": "markdown",
   "metadata": {},
   "source": [
    "# Blocking and stopping event loops"
   ]
  },
  {
   "cell_type": "code",
   "execution_count": 7,
   "metadata": {},
   "outputs": [
    {
     "ename": "TclError",
     "evalue": "NULL main window",
     "output_type": "error",
     "traceback": [
      "\u001b[1;31m---------------------------------------------------------------------------\u001b[0m",
      "\u001b[1;31mTclError\u001b[0m                                  Traceback (most recent call last)",
      "\u001b[1;32m~\\AppData\\Local\\Temp/ipykernel_53032/2980831167.py\u001b[0m in \u001b[0;36m<module>\u001b[1;34m\u001b[0m\n\u001b[0;32m     24\u001b[0m     \u001b[0ml\u001b[0m\u001b[1;33m[\u001b[0m\u001b[1;34m'text'\u001b[0m\u001b[1;33m]\u001b[0m \u001b[1;33m=\u001b[0m \u001b[1;34m\"Answer: \"\u001b[0m \u001b[1;33m+\u001b[0m \u001b[0mstr\u001b[0m\u001b[1;33m(\u001b[0m\u001b[0manswer\u001b[0m\u001b[1;33m)\u001b[0m \u001b[1;32mif\u001b[0m \u001b[0manswer\u001b[0m \u001b[1;32melse\u001b[0m \u001b[1;34m\"No Answer\"\u001b[0m\u001b[1;33m\u001b[0m\u001b[1;33m\u001b[0m\u001b[0m\n\u001b[0;32m     25\u001b[0m \u001b[1;33m\u001b[0m\u001b[0m\n\u001b[1;32m---> 26\u001b[1;33m \u001b[0mf\u001b[0m \u001b[1;33m=\u001b[0m \u001b[0mttk\u001b[0m\u001b[1;33m.\u001b[0m\u001b[0mFrame\u001b[0m\u001b[1;33m(\u001b[0m\u001b[0mroot\u001b[0m\u001b[1;33m)\u001b[0m\u001b[1;33m;\u001b[0m \u001b[0mf\u001b[0m\u001b[1;33m.\u001b[0m\u001b[0mgrid\u001b[0m\u001b[1;33m(\u001b[0m\u001b[1;33m)\u001b[0m\u001b[1;33m\u001b[0m\u001b[1;33m\u001b[0m\u001b[0m\n\u001b[0m\u001b[0;32m     27\u001b[0m \u001b[0mb\u001b[0m \u001b[1;33m=\u001b[0m \u001b[0mttk\u001b[0m\u001b[1;33m.\u001b[0m\u001b[0mButton\u001b[0m\u001b[1;33m(\u001b[0m\u001b[0mf\u001b[0m\u001b[1;33m,\u001b[0m \u001b[0mtext\u001b[0m\u001b[1;33m=\u001b[0m\u001b[1;34m\"Start!\"\u001b[0m\u001b[1;33m,\u001b[0m \u001b[0mcommand\u001b[0m\u001b[1;33m=\u001b[0m\u001b[0mstart\u001b[0m\u001b[1;33m)\u001b[0m\u001b[1;33m;\u001b[0m \u001b[0mb\u001b[0m\u001b[1;33m.\u001b[0m\u001b[0mgrid\u001b[0m\u001b[1;33m(\u001b[0m\u001b[0mcolumn\u001b[0m\u001b[1;33m=\u001b[0m\u001b[1;36m1\u001b[0m\u001b[1;33m,\u001b[0m \u001b[0mrow\u001b[0m\u001b[1;33m=\u001b[0m\u001b[1;36m0\u001b[0m\u001b[1;33m,\u001b[0m \u001b[0mpadx\u001b[0m\u001b[1;33m=\u001b[0m\u001b[1;36m5\u001b[0m\u001b[1;33m,\u001b[0m \u001b[0mpady\u001b[0m\u001b[1;33m=\u001b[0m\u001b[1;36m5\u001b[0m\u001b[1;33m)\u001b[0m\u001b[1;33m\u001b[0m\u001b[1;33m\u001b[0m\u001b[0m\n\u001b[0;32m     28\u001b[0m \u001b[0ml\u001b[0m \u001b[1;33m=\u001b[0m \u001b[0mttk\u001b[0m\u001b[1;33m.\u001b[0m\u001b[0mLabel\u001b[0m\u001b[1;33m(\u001b[0m\u001b[0mf\u001b[0m\u001b[1;33m,\u001b[0m \u001b[0mtext\u001b[0m\u001b[1;33m=\u001b[0m\u001b[1;34m\"No Answer\"\u001b[0m\u001b[1;33m)\u001b[0m\u001b[1;33m;\u001b[0m \u001b[0ml\u001b[0m\u001b[1;33m.\u001b[0m\u001b[0mgrid\u001b[0m\u001b[1;33m(\u001b[0m\u001b[0mcolumn\u001b[0m\u001b[1;33m=\u001b[0m\u001b[1;36m0\u001b[0m\u001b[1;33m,\u001b[0m \u001b[0mrow\u001b[0m\u001b[1;33m=\u001b[0m\u001b[1;36m0\u001b[0m\u001b[1;33m,\u001b[0m \u001b[0mpadx\u001b[0m\u001b[1;33m=\u001b[0m\u001b[1;36m5\u001b[0m\u001b[1;33m,\u001b[0m \u001b[0mpady\u001b[0m\u001b[1;33m=\u001b[0m\u001b[1;36m5\u001b[0m\u001b[1;33m)\u001b[0m\u001b[1;33m\u001b[0m\u001b[1;33m\u001b[0m\u001b[0m\n",
      "\u001b[1;32mC:\\ProgramData\\Anaconda3\\lib\\tkinter\\ttk.py\u001b[0m in \u001b[0;36m__init__\u001b[1;34m(self, master, **kw)\u001b[0m\n\u001b[0;32m    733\u001b[0m             \u001b[0mborderwidth\u001b[0m\u001b[1;33m,\u001b[0m \u001b[0mrelief\u001b[0m\u001b[1;33m,\u001b[0m \u001b[0mpadding\u001b[0m\u001b[1;33m,\u001b[0m \u001b[0mwidth\u001b[0m\u001b[1;33m,\u001b[0m \u001b[0mheight\u001b[0m\u001b[1;33m\u001b[0m\u001b[1;33m\u001b[0m\u001b[0m\n\u001b[0;32m    734\u001b[0m         \"\"\"\n\u001b[1;32m--> 735\u001b[1;33m         \u001b[0mWidget\u001b[0m\u001b[1;33m.\u001b[0m\u001b[0m__init__\u001b[0m\u001b[1;33m(\u001b[0m\u001b[0mself\u001b[0m\u001b[1;33m,\u001b[0m \u001b[0mmaster\u001b[0m\u001b[1;33m,\u001b[0m \u001b[1;34m\"ttk::frame\"\u001b[0m\u001b[1;33m,\u001b[0m \u001b[0mkw\u001b[0m\u001b[1;33m)\u001b[0m\u001b[1;33m\u001b[0m\u001b[1;33m\u001b[0m\u001b[0m\n\u001b[0m\u001b[0;32m    736\u001b[0m \u001b[1;33m\u001b[0m\u001b[0m\n\u001b[0;32m    737\u001b[0m \u001b[1;33m\u001b[0m\u001b[0m\n",
      "\u001b[1;32mC:\\ProgramData\\Anaconda3\\lib\\tkinter\\ttk.py\u001b[0m in \u001b[0;36m__init__\u001b[1;34m(self, master, widgetname, kw)\u001b[0m\n\u001b[0;32m    550\u001b[0m             \u001b[1;31m# Load tile now, if needed\u001b[0m\u001b[1;33m\u001b[0m\u001b[1;33m\u001b[0m\u001b[0m\n\u001b[0;32m    551\u001b[0m             \u001b[0m_load_tile\u001b[0m\u001b[1;33m(\u001b[0m\u001b[0mmaster\u001b[0m\u001b[1;33m)\u001b[0m\u001b[1;33m\u001b[0m\u001b[1;33m\u001b[0m\u001b[0m\n\u001b[1;32m--> 552\u001b[1;33m         \u001b[0mtkinter\u001b[0m\u001b[1;33m.\u001b[0m\u001b[0mWidget\u001b[0m\u001b[1;33m.\u001b[0m\u001b[0m__init__\u001b[0m\u001b[1;33m(\u001b[0m\u001b[0mself\u001b[0m\u001b[1;33m,\u001b[0m \u001b[0mmaster\u001b[0m\u001b[1;33m,\u001b[0m \u001b[0mwidgetname\u001b[0m\u001b[1;33m,\u001b[0m \u001b[0mkw\u001b[0m\u001b[1;33m=\u001b[0m\u001b[0mkw\u001b[0m\u001b[1;33m)\u001b[0m\u001b[1;33m\u001b[0m\u001b[1;33m\u001b[0m\u001b[0m\n\u001b[0m\u001b[0;32m    553\u001b[0m \u001b[1;33m\u001b[0m\u001b[0m\n\u001b[0;32m    554\u001b[0m \u001b[1;33m\u001b[0m\u001b[0m\n",
      "\u001b[1;32mC:\\ProgramData\\Anaconda3\\lib\\tkinter\\__init__.py\u001b[0m in \u001b[0;36m__init__\u001b[1;34m(self, master, widgetName, cnf, kw, extra)\u001b[0m\n\u001b[0;32m   2570\u001b[0m         \u001b[1;32mfor\u001b[0m \u001b[0mk\u001b[0m\u001b[1;33m,\u001b[0m \u001b[0mv\u001b[0m \u001b[1;32min\u001b[0m \u001b[0mclasses\u001b[0m\u001b[1;33m:\u001b[0m\u001b[1;33m\u001b[0m\u001b[1;33m\u001b[0m\u001b[0m\n\u001b[0;32m   2571\u001b[0m             \u001b[1;32mdel\u001b[0m \u001b[0mcnf\u001b[0m\u001b[1;33m[\u001b[0m\u001b[0mk\u001b[0m\u001b[1;33m]\u001b[0m\u001b[1;33m\u001b[0m\u001b[1;33m\u001b[0m\u001b[0m\n\u001b[1;32m-> 2572\u001b[1;33m         self.tk.call(\n\u001b[0m\u001b[0;32m   2573\u001b[0m             (widgetName, self._w) + extra + self._options(cnf))\n\u001b[0;32m   2574\u001b[0m         \u001b[1;32mfor\u001b[0m \u001b[0mk\u001b[0m\u001b[1;33m,\u001b[0m \u001b[0mv\u001b[0m \u001b[1;32min\u001b[0m \u001b[0mclasses\u001b[0m\u001b[1;33m:\u001b[0m\u001b[1;33m\u001b[0m\u001b[1;33m\u001b[0m\u001b[0m\n",
      "\u001b[1;31mTclError\u001b[0m: NULL main window"
     ]
    }
   ],
   "source": [
    "def start():\n",
    "    b.configure(text='Stop', command=stop)\n",
    "    l['text'] = 'Working...'\n",
    "    global interrupt; interrupt = False\n",
    "    root.after(1, step)\n",
    "    \n",
    "def stop():\n",
    "    global interrupt; interrupt = True\n",
    "    \n",
    "def step(count=0):\n",
    "    p['value'] = count\n",
    "    if interrupt:\n",
    "        result(None)\n",
    "        return\n",
    "    root.after(100)  # next step in our operation; don't take too long!\n",
    "    if count == 20:  # done!\n",
    "        result(42)\n",
    "        return\n",
    "    root.after(1, lambda: step(count+1))\n",
    "    \n",
    "def result(answer):\n",
    "    p['value'] = 0\n",
    "    b.configure(text='Start!', command=start)\n",
    "    l['text'] = \"Answer: \" + str(answer) if answer else \"No Answer\"\n",
    "    \n",
    "f = ttk.Frame(root); f.grid()\n",
    "b = ttk.Button(f, text=\"Start!\", command=start); b.grid(column=1, row=0, padx=5, pady=5)\n",
    "l = ttk.Label(f, text=\"No Answer\"); l.grid(column=0, row=0, padx=5, pady=5)\n",
    "p = ttk.Progressbar(f, orient=\"horizontal\", mode=\"determinate\", maximum=20); \n",
    "p.grid(column=0, row=1, padx=5, pady=5)"
   ]
  },
  {
   "cell_type": "code",
   "execution_count": 10,
   "metadata": {},
   "outputs": [
    {
     "ename": "TclError",
     "evalue": "NULL main window",
     "output_type": "error",
     "traceback": [
      "\u001b[1;31m---------------------------------------------------------------------------\u001b[0m",
      "\u001b[1;31mTclError\u001b[0m                                  Traceback (most recent call last)",
      "\u001b[1;32m~\\AppData\\Local\\Temp/ipykernel_53032/2980831167.py\u001b[0m in \u001b[0;36m<module>\u001b[1;34m\u001b[0m\n\u001b[0;32m     24\u001b[0m     \u001b[0ml\u001b[0m\u001b[1;33m[\u001b[0m\u001b[1;34m'text'\u001b[0m\u001b[1;33m]\u001b[0m \u001b[1;33m=\u001b[0m \u001b[1;34m\"Answer: \"\u001b[0m \u001b[1;33m+\u001b[0m \u001b[0mstr\u001b[0m\u001b[1;33m(\u001b[0m\u001b[0manswer\u001b[0m\u001b[1;33m)\u001b[0m \u001b[1;32mif\u001b[0m \u001b[0manswer\u001b[0m \u001b[1;32melse\u001b[0m \u001b[1;34m\"No Answer\"\u001b[0m\u001b[1;33m\u001b[0m\u001b[1;33m\u001b[0m\u001b[0m\n\u001b[0;32m     25\u001b[0m \u001b[1;33m\u001b[0m\u001b[0m\n\u001b[1;32m---> 26\u001b[1;33m \u001b[0mf\u001b[0m \u001b[1;33m=\u001b[0m \u001b[0mttk\u001b[0m\u001b[1;33m.\u001b[0m\u001b[0mFrame\u001b[0m\u001b[1;33m(\u001b[0m\u001b[0mroot\u001b[0m\u001b[1;33m)\u001b[0m\u001b[1;33m;\u001b[0m \u001b[0mf\u001b[0m\u001b[1;33m.\u001b[0m\u001b[0mgrid\u001b[0m\u001b[1;33m(\u001b[0m\u001b[1;33m)\u001b[0m\u001b[1;33m\u001b[0m\u001b[1;33m\u001b[0m\u001b[0m\n\u001b[0m\u001b[0;32m     27\u001b[0m \u001b[0mb\u001b[0m \u001b[1;33m=\u001b[0m \u001b[0mttk\u001b[0m\u001b[1;33m.\u001b[0m\u001b[0mButton\u001b[0m\u001b[1;33m(\u001b[0m\u001b[0mf\u001b[0m\u001b[1;33m,\u001b[0m \u001b[0mtext\u001b[0m\u001b[1;33m=\u001b[0m\u001b[1;34m\"Start!\"\u001b[0m\u001b[1;33m,\u001b[0m \u001b[0mcommand\u001b[0m\u001b[1;33m=\u001b[0m\u001b[0mstart\u001b[0m\u001b[1;33m)\u001b[0m\u001b[1;33m;\u001b[0m \u001b[0mb\u001b[0m\u001b[1;33m.\u001b[0m\u001b[0mgrid\u001b[0m\u001b[1;33m(\u001b[0m\u001b[0mcolumn\u001b[0m\u001b[1;33m=\u001b[0m\u001b[1;36m1\u001b[0m\u001b[1;33m,\u001b[0m \u001b[0mrow\u001b[0m\u001b[1;33m=\u001b[0m\u001b[1;36m0\u001b[0m\u001b[1;33m,\u001b[0m \u001b[0mpadx\u001b[0m\u001b[1;33m=\u001b[0m\u001b[1;36m5\u001b[0m\u001b[1;33m,\u001b[0m \u001b[0mpady\u001b[0m\u001b[1;33m=\u001b[0m\u001b[1;36m5\u001b[0m\u001b[1;33m)\u001b[0m\u001b[1;33m\u001b[0m\u001b[1;33m\u001b[0m\u001b[0m\n\u001b[0;32m     28\u001b[0m \u001b[0ml\u001b[0m \u001b[1;33m=\u001b[0m \u001b[0mttk\u001b[0m\u001b[1;33m.\u001b[0m\u001b[0mLabel\u001b[0m\u001b[1;33m(\u001b[0m\u001b[0mf\u001b[0m\u001b[1;33m,\u001b[0m \u001b[0mtext\u001b[0m\u001b[1;33m=\u001b[0m\u001b[1;34m\"No Answer\"\u001b[0m\u001b[1;33m)\u001b[0m\u001b[1;33m;\u001b[0m \u001b[0ml\u001b[0m\u001b[1;33m.\u001b[0m\u001b[0mgrid\u001b[0m\u001b[1;33m(\u001b[0m\u001b[0mcolumn\u001b[0m\u001b[1;33m=\u001b[0m\u001b[1;36m0\u001b[0m\u001b[1;33m,\u001b[0m \u001b[0mrow\u001b[0m\u001b[1;33m=\u001b[0m\u001b[1;36m0\u001b[0m\u001b[1;33m,\u001b[0m \u001b[0mpadx\u001b[0m\u001b[1;33m=\u001b[0m\u001b[1;36m5\u001b[0m\u001b[1;33m,\u001b[0m \u001b[0mpady\u001b[0m\u001b[1;33m=\u001b[0m\u001b[1;36m5\u001b[0m\u001b[1;33m)\u001b[0m\u001b[1;33m\u001b[0m\u001b[1;33m\u001b[0m\u001b[0m\n",
      "\u001b[1;32mC:\\ProgramData\\Anaconda3\\lib\\tkinter\\ttk.py\u001b[0m in \u001b[0;36m__init__\u001b[1;34m(self, master, **kw)\u001b[0m\n\u001b[0;32m    733\u001b[0m             \u001b[0mborderwidth\u001b[0m\u001b[1;33m,\u001b[0m \u001b[0mrelief\u001b[0m\u001b[1;33m,\u001b[0m \u001b[0mpadding\u001b[0m\u001b[1;33m,\u001b[0m \u001b[0mwidth\u001b[0m\u001b[1;33m,\u001b[0m \u001b[0mheight\u001b[0m\u001b[1;33m\u001b[0m\u001b[1;33m\u001b[0m\u001b[0m\n\u001b[0;32m    734\u001b[0m         \"\"\"\n\u001b[1;32m--> 735\u001b[1;33m         \u001b[0mWidget\u001b[0m\u001b[1;33m.\u001b[0m\u001b[0m__init__\u001b[0m\u001b[1;33m(\u001b[0m\u001b[0mself\u001b[0m\u001b[1;33m,\u001b[0m \u001b[0mmaster\u001b[0m\u001b[1;33m,\u001b[0m \u001b[1;34m\"ttk::frame\"\u001b[0m\u001b[1;33m,\u001b[0m \u001b[0mkw\u001b[0m\u001b[1;33m)\u001b[0m\u001b[1;33m\u001b[0m\u001b[1;33m\u001b[0m\u001b[0m\n\u001b[0m\u001b[0;32m    736\u001b[0m \u001b[1;33m\u001b[0m\u001b[0m\n\u001b[0;32m    737\u001b[0m \u001b[1;33m\u001b[0m\u001b[0m\n",
      "\u001b[1;32mC:\\ProgramData\\Anaconda3\\lib\\tkinter\\ttk.py\u001b[0m in \u001b[0;36m__init__\u001b[1;34m(self, master, widgetname, kw)\u001b[0m\n\u001b[0;32m    550\u001b[0m             \u001b[1;31m# Load tile now, if needed\u001b[0m\u001b[1;33m\u001b[0m\u001b[1;33m\u001b[0m\u001b[0m\n\u001b[0;32m    551\u001b[0m             \u001b[0m_load_tile\u001b[0m\u001b[1;33m(\u001b[0m\u001b[0mmaster\u001b[0m\u001b[1;33m)\u001b[0m\u001b[1;33m\u001b[0m\u001b[1;33m\u001b[0m\u001b[0m\n\u001b[1;32m--> 552\u001b[1;33m         \u001b[0mtkinter\u001b[0m\u001b[1;33m.\u001b[0m\u001b[0mWidget\u001b[0m\u001b[1;33m.\u001b[0m\u001b[0m__init__\u001b[0m\u001b[1;33m(\u001b[0m\u001b[0mself\u001b[0m\u001b[1;33m,\u001b[0m \u001b[0mmaster\u001b[0m\u001b[1;33m,\u001b[0m \u001b[0mwidgetname\u001b[0m\u001b[1;33m,\u001b[0m \u001b[0mkw\u001b[0m\u001b[1;33m=\u001b[0m\u001b[0mkw\u001b[0m\u001b[1;33m)\u001b[0m\u001b[1;33m\u001b[0m\u001b[1;33m\u001b[0m\u001b[0m\n\u001b[0m\u001b[0;32m    553\u001b[0m \u001b[1;33m\u001b[0m\u001b[0m\n\u001b[0;32m    554\u001b[0m \u001b[1;33m\u001b[0m\u001b[0m\n",
      "\u001b[1;32mC:\\ProgramData\\Anaconda3\\lib\\tkinter\\__init__.py\u001b[0m in \u001b[0;36m__init__\u001b[1;34m(self, master, widgetName, cnf, kw, extra)\u001b[0m\n\u001b[0;32m   2570\u001b[0m         \u001b[1;32mfor\u001b[0m \u001b[0mk\u001b[0m\u001b[1;33m,\u001b[0m \u001b[0mv\u001b[0m \u001b[1;32min\u001b[0m \u001b[0mclasses\u001b[0m\u001b[1;33m:\u001b[0m\u001b[1;33m\u001b[0m\u001b[1;33m\u001b[0m\u001b[0m\n\u001b[0;32m   2571\u001b[0m             \u001b[1;32mdel\u001b[0m \u001b[0mcnf\u001b[0m\u001b[1;33m[\u001b[0m\u001b[0mk\u001b[0m\u001b[1;33m]\u001b[0m\u001b[1;33m\u001b[0m\u001b[1;33m\u001b[0m\u001b[0m\n\u001b[1;32m-> 2572\u001b[1;33m         self.tk.call(\n\u001b[0m\u001b[0;32m   2573\u001b[0m             (widgetName, self._w) + extra + self._options(cnf))\n\u001b[0;32m   2574\u001b[0m         \u001b[1;32mfor\u001b[0m \u001b[0mk\u001b[0m\u001b[1;33m,\u001b[0m \u001b[0mv\u001b[0m \u001b[1;32min\u001b[0m \u001b[0mclasses\u001b[0m\u001b[1;33m:\u001b[0m\u001b[1;33m\u001b[0m\u001b[1;33m\u001b[0m\u001b[0m\n",
      "\u001b[1;31mTclError\u001b[0m: NULL main window"
     ]
    }
   ],
   "source": [
    "def start():\n",
    "    b.configure(text='Stop', command=stop)\n",
    "    l['text'] = 'Working...'\n",
    "    global interrupt; interrupt = False\n",
    "    root.after(1, step)\n",
    "    \n",
    "def stop():\n",
    "    global interrupt; interrupt = True\n",
    "    \n",
    "def step(count=0):\n",
    "    p['value'] = count\n",
    "    if interrupt:\n",
    "        result(None)\n",
    "        return\n",
    "    root.after(100)  # next step in our operation; don't take too long!\n",
    "    if count == 20:  # done!\n",
    "        result(42)\n",
    "        return\n",
    "    root.after(1, lambda: step(count+1))\n",
    "    \n",
    "def result(answer):\n",
    "    p['value'] = 0\n",
    "    b.configure(text='Start!', command=start)\n",
    "    l['text'] = \"Answer: \" + str(answer) if answer else \"No Answer\"\n",
    "    \n",
    "f = ttk.Frame(root); f.grid()\n",
    "b = ttk.Button(f, text=\"Start!\", command=start); b.grid(column=1, row=0, padx=5, pady=5)\n",
    "l = ttk.Label(f, text=\"No Answer\"); l.grid(column=0, row=0, padx=5, pady=5)\n",
    "p = ttk.Progressbar(f, orient=\"horizontal\", mode=\"determinate\", maximum=20); \n",
    "p.grid(column=0, row=1, padx=5, pady=5)"
   ]
  },
  {
   "cell_type": "markdown",
   "metadata": {},
   "source": [
    "## Grids"
   ]
  },
  {
   "cell_type": "code",
   "execution_count": 9,
   "metadata": {},
   "outputs": [],
   "source": [
    "from tkinter import *\n",
    "from tkinter import ttk\n",
    "\n",
    "root = Tk()\n",
    "\n",
    "content = ttk.Frame(root)\n",
    "frame = ttk.Frame(content, borderwidth=5, relief=\"ridge\", width=200, height=100)\n",
    "namelbl = ttk.Label(content, text=\"Name\")\n",
    "name = ttk.Entry(content)\n",
    "\n",
    "onevar = BooleanVar(value=True)\n",
    "twovar = BooleanVar(value=False)\n",
    "threevar = BooleanVar(value=True)\n",
    "\n",
    "one = ttk.Checkbutton(content, text=\"One\", variable=onevar, onvalue=False)\n",
    "two = ttk.Checkbutton(content, text=\"Two\", variable=twovar, onvalue=False)\n",
    "three = ttk.Checkbutton(content, text=\"Three\", variable=threevar, onvalue=False)\n",
    "ok = ttk.Button(content, text=\"Okay\")\n",
    "cancel = ttk.Button(content, text=\"Cancel\")\n",
    "\n",
    "content.grid(column=0, row=0)\n",
    "frame.grid(column=0, row=0, columnspan=3, rowspan=2)\n",
    "namelbl.grid(column=3, row=0, columnspan=2)\n",
    "name.grid(column=3, row=1, columnspan=2)\n",
    "one.grid(column=0, row=3)\n",
    "two.grid(column=1, row=3)\n",
    "three.grid(column=2, row=3)\n",
    "ok.grid(column=3, row=3)\n",
    "cancel.grid(column=4, row=3)\n",
    "\n",
    "root.mainloop()"
   ]
  }
 ],
 "metadata": {
  "interpreter": {
   "hash": "b3ba2566441a7c06988d0923437866b63cedc61552a5af99d1f4fb67d367b25f"
  },
  "kernelspec": {
   "display_name": "Python 3.9.7 64-bit ('base': conda)",
   "language": "python",
   "name": "python3"
  },
  "language_info": {
   "codemirror_mode": {
    "name": "ipython",
    "version": 3
   },
   "file_extension": ".py",
   "mimetype": "text/x-python",
   "name": "python",
   "nbconvert_exporter": "python",
   "pygments_lexer": "ipython3",
   "version": "3.9.7"
  },
  "orig_nbformat": 4
 },
 "nbformat": 4,
 "nbformat_minor": 2
}
